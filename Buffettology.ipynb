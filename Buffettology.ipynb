{
  "nbformat": 4,
  "nbformat_minor": 0,
  "metadata": {
    "colab": {
      "name": "Buffettology.ipynb",
      "provenance": [],
      "collapsed_sections": [],
      "authorship_tag": "ABX9TyP6gy10pBKoDVkNFdIANMH/",
      "include_colab_link": true
    },
    "kernelspec": {
      "name": "python3",
      "display_name": "Python 3"
    }
  },
  "cells": [
    {
      "cell_type": "markdown",
      "metadata": {
        "id": "view-in-github",
        "colab_type": "text"
      },
      "source": [
        "<a href=\"https://colab.research.google.com/github/tomholmes96/ca-portfolio-opti/blob/main/Buffettology.ipynb\" target=\"_parent\"><img src=\"https://colab.research.google.com/assets/colab-badge.svg\" alt=\"Open In Colab\"/></a>"
      ]
    },
    {
      "cell_type": "markdown",
      "metadata": {
        "id": "2fW8B2O3ddsv"
      },
      "source": [
        "# Introduction\n",
        "\n",
        "In this notebook I want to implement some of Warren Buffett's strategies for choosing stocks as detailed in the book \"Buffettology\". "
      ]
    },
    {
      "cell_type": "markdown",
      "metadata": {
        "id": "KN7U2jWRb-VH"
      },
      "source": [
        "**Need to install Yahoo Finance as it isn't already on Colab**"
      ]
    },
    {
      "cell_type": "code",
      "metadata": {
        "id": "aE2w_C9-Vu5Z",
        "colab": {
          "base_uri": "https://localhost:8080/"
        },
        "outputId": "a9ae5814-d222-42cb-b277-439dae8ba895"
      },
      "source": [
        "!pip install yfinance"
      ],
      "execution_count": 16,
      "outputs": [
        {
          "output_type": "stream",
          "text": [
            "Requirement already satisfied: yfinance in /usr/local/lib/python3.6/dist-packages (0.1.55)\n",
            "Requirement already satisfied: numpy>=1.15 in /usr/local/lib/python3.6/dist-packages (from yfinance) (1.19.4)\n",
            "Requirement already satisfied: multitasking>=0.0.7 in /usr/local/lib/python3.6/dist-packages (from yfinance) (0.0.9)\n",
            "Requirement already satisfied: pandas>=0.24 in /usr/local/lib/python3.6/dist-packages (from yfinance) (1.1.5)\n",
            "Requirement already satisfied: lxml>=4.5.1 in /usr/local/lib/python3.6/dist-packages (from yfinance) (4.6.2)\n",
            "Requirement already satisfied: requests>=2.20 in /usr/local/lib/python3.6/dist-packages (from yfinance) (2.23.0)\n",
            "Requirement already satisfied: python-dateutil>=2.7.3 in /usr/local/lib/python3.6/dist-packages (from pandas>=0.24->yfinance) (2.8.1)\n",
            "Requirement already satisfied: pytz>=2017.2 in /usr/local/lib/python3.6/dist-packages (from pandas>=0.24->yfinance) (2018.9)\n",
            "Requirement already satisfied: idna<3,>=2.5 in /usr/local/lib/python3.6/dist-packages (from requests>=2.20->yfinance) (2.10)\n",
            "Requirement already satisfied: chardet<4,>=3.0.2 in /usr/local/lib/python3.6/dist-packages (from requests>=2.20->yfinance) (3.0.4)\n",
            "Requirement already satisfied: certifi>=2017.4.17 in /usr/local/lib/python3.6/dist-packages (from requests>=2.20->yfinance) (2020.12.5)\n",
            "Requirement already satisfied: urllib3!=1.25.0,!=1.25.1,<1.26,>=1.21.1 in /usr/local/lib/python3.6/dist-packages (from requests>=2.20->yfinance) (1.24.3)\n",
            "Requirement already satisfied: six>=1.5 in /usr/local/lib/python3.6/dist-packages (from python-dateutil>=2.7.3->pandas>=0.24->yfinance) (1.15.0)\n"
          ],
          "name": "stdout"
        }
      ]
    },
    {
      "cell_type": "code",
      "metadata": {
        "id": "3HfuinQ2TV2n"
      },
      "source": [
        "import yfinance as yf\n",
        "import matplotlib.pyplot as plt\n",
        "import numpy as np"
      ],
      "execution_count": 17,
      "outputs": []
    },
    {
      "cell_type": "markdown",
      "metadata": {
        "id": "mEyWPkHcce69"
      },
      "source": [
        "# Basic Financials"
      ]
    },
    {
      "cell_type": "markdown",
      "metadata": {
        "id": "nQPCPyXFcp_T"
      },
      "source": [
        "A preview of the info provided for a stock from the yfinance API"
      ]
    },
    {
      "cell_type": "code",
      "metadata": {
        "id": "885rQYuEVybK",
        "colab": {
          "base_uri": "https://localhost:8080/"
        },
        "outputId": "6e647f38-b2d8-4fee-8410-720b962f85d8"
      },
      "source": [
        "aapl = yf.Ticker('AAPL')\n",
        "aapl.info"
      ],
      "execution_count": 18,
      "outputs": [
        {
          "output_type": "execute_result",
          "data": {
            "text/plain": [
              "{'52WeekChange': 0.7703804,\n",
              " 'SandP52WeekChange': 0.15703821,\n",
              " 'address1': 'One Apple Park Way',\n",
              " 'algorithm': None,\n",
              " 'annualHoldingsTurnover': None,\n",
              " 'annualReportExpenseRatio': None,\n",
              " 'ask': 130.15,\n",
              " 'askSize': 1200,\n",
              " 'averageDailyVolume10Day': 110244000,\n",
              " 'averageVolume': 114195037,\n",
              " 'averageVolume10days': 110244000,\n",
              " 'beta': 1.297637,\n",
              " 'beta3Year': None,\n",
              " 'bid': 130.1,\n",
              " 'bidSize': 1300,\n",
              " 'bookValue': 3.849,\n",
              " 'category': None,\n",
              " 'circulatingSupply': None,\n",
              " 'city': 'Cupertino',\n",
              " 'companyOfficers': [],\n",
              " 'country': 'United States',\n",
              " 'currency': 'USD',\n",
              " 'dateShortInterest': 1607990400,\n",
              " 'dayHigh': 133.6116,\n",
              " 'dayLow': 129.4,\n",
              " 'dividendRate': 0.82,\n",
              " 'dividendYield': 0.0062,\n",
              " 'earningsQuarterlyGrowth': -0.074,\n",
              " 'enterpriseToEbitda': 29.573,\n",
              " 'enterpriseToRevenue': 8.332,\n",
              " 'enterpriseValue': 2287304179712,\n",
              " 'exDividendDate': 1604620800,\n",
              " 'exchange': 'NMS',\n",
              " 'exchangeTimezoneName': 'America/New_York',\n",
              " 'exchangeTimezoneShortName': 'EST',\n",
              " 'expireDate': None,\n",
              " 'fiftyDayAverage': 124.211876,\n",
              " 'fiftyTwoWeekHigh': 138.79,\n",
              " 'fiftyTwoWeekLow': 53.1525,\n",
              " 'fiveYearAverageReturn': None,\n",
              " 'fiveYearAvgDividendYield': 1.46,\n",
              " 'floatShares': 16984630180,\n",
              " 'forwardEps': 4.35,\n",
              " 'forwardPE': 29.816368,\n",
              " 'fromCurrency': None,\n",
              " 'fullTimeEmployees': 147000,\n",
              " 'fundFamily': None,\n",
              " 'fundInceptionDate': None,\n",
              " 'gmtOffSetMilliseconds': '-18000000',\n",
              " 'heldPercentInsiders': 0.00065,\n",
              " 'heldPercentInstitutions': 0.59661996,\n",
              " 'impliedSharesOutstanding': None,\n",
              " 'industry': 'Consumer Electronics',\n",
              " 'isEsgPopulated': False,\n",
              " 'lastCapGain': None,\n",
              " 'lastDividendDate': 1604620800,\n",
              " 'lastDividendValue': 0.205,\n",
              " 'lastFiscalYearEnd': 1601078400,\n",
              " 'lastMarket': None,\n",
              " 'lastSplitDate': 1598832000,\n",
              " 'lastSplitFactor': '4:1',\n",
              " 'legalType': None,\n",
              " 'logo_url': 'https://logo.clearbit.com/apple.com',\n",
              " 'longBusinessSummary': 'Apple Inc. designs, manufactures, and markets smartphones, personal computers, tablets, wearables, and accessories worldwide. It also sells various related services. The company offers iPhone, a line of smartphones; Mac, a line of personal computers; iPad, a line of multi-purpose tablets; and wearables, home, and accessories comprising AirPods, Apple TV, Apple Watch, Beats products, HomePod, iPod touch, and other Apple-branded and third-party accessories. It also provides AppleCare support services; cloud services store services; and operates various platforms, including the App Store, that allow customers to discover and download applications and digital content, such as books, music, video, games, and podcasts. In addition, the company offers various services, such as Apple Arcade, a game subscription service; Apple Music, which offers users a curated listening experience with on-demand radio stations; Apple News+, a subscription news and magazine service; Apple TV+, which offers exclusive original content; Apple Card, a co-branded credit card; and Apple Pay, a cashless payment service, as well as licenses its intellectual property. The company serves consumers, and small and mid-sized businesses; and the education, enterprise, and government markets. It sells and delivers third-party applications for its products through the App Store. The company also sells its products through its retail and online stores, and direct sales force; and third-party cellular network carriers, wholesalers, retailers, and resellers. Apple Inc. was founded in 1977 and is headquartered in Cupertino, California.',\n",
              " 'longName': 'Apple Inc.',\n",
              " 'market': 'us_market',\n",
              " 'marketCap': 2205153755136,\n",
              " 'maxAge': 1,\n",
              " 'maxSupply': None,\n",
              " 'messageBoardId': 'finmb_24937',\n",
              " 'morningStarOverallRating': None,\n",
              " 'morningStarRiskRating': None,\n",
              " 'mostRecentQuarter': 1601078400,\n",
              " 'navPrice': None,\n",
              " 'netIncomeToCommon': 57410998272,\n",
              " 'nextFiscalYearEnd': 1664150400,\n",
              " 'open': 133.52,\n",
              " 'openInterest': None,\n",
              " 'payoutRatio': 0.24239999,\n",
              " 'pegRatio': 2.64,\n",
              " 'phone': '408-996-1010',\n",
              " 'previousClose': 132.69,\n",
              " 'priceHint': 2,\n",
              " 'priceToBook': 33.697063,\n",
              " 'priceToSalesTrailing12Months': 8.032908,\n",
              " 'profitMargins': 0.20914,\n",
              " 'quoteType': 'EQUITY',\n",
              " 'regularMarketDayHigh': 133.6116,\n",
              " 'regularMarketDayLow': 129.4,\n",
              " 'regularMarketOpen': 133.52,\n",
              " 'regularMarketPreviousClose': 132.69,\n",
              " 'regularMarketPrice': 133.52,\n",
              " 'regularMarketVolume': 48630740,\n",
              " 'revenueQuarterlyGrowth': None,\n",
              " 'sector': 'Technology',\n",
              " 'sharesOutstanding': 17102499840,\n",
              " 'sharesPercentSharesOut': 0.0056,\n",
              " 'sharesShort': 94721417,\n",
              " 'sharesShortPreviousMonthDate': 1605225600,\n",
              " 'sharesShortPriorMonth': 87564487,\n",
              " 'shortName': 'Apple Inc.',\n",
              " 'shortPercentOfFloat': 0.0056,\n",
              " 'shortRatio': 1,\n",
              " 'startDate': None,\n",
              " 'state': 'CA',\n",
              " 'strikePrice': None,\n",
              " 'symbol': 'AAPL',\n",
              " 'threeYearAverageReturn': None,\n",
              " 'toCurrency': None,\n",
              " 'totalAssets': None,\n",
              " 'tradeable': False,\n",
              " 'trailingAnnualDividendRate': 0.795,\n",
              " 'trailingAnnualDividendYield': 0.0059914086,\n",
              " 'trailingEps': 3.28,\n",
              " 'trailingPE': 39.54305,\n",
              " 'twoHundredDayAverage': 113.06111,\n",
              " 'volume': 48630740,\n",
              " 'volume24Hr': None,\n",
              " 'volumeAllCurrencies': None,\n",
              " 'website': 'http://www.apple.com',\n",
              " 'yield': None,\n",
              " 'ytdReturn': None,\n",
              " 'zip': '95014'}"
            ]
          },
          "metadata": {
            "tags": []
          },
          "execution_count": 18
        }
      ]
    },
    {
      "cell_type": "markdown",
      "metadata": {
        "id": "Za9God2lgKfA"
      },
      "source": [
        "Function for returning the rate of return for a stock factoring in how much I would pay for it:\n",
        "\n",
        "$$ RoR = \\frac{Foward EPS}{Ask Price} $$\n",
        "\n"
      ]
    },
    {
      "cell_type": "code",
      "metadata": {
        "id": "k4mYmh-xaC0i"
      },
      "source": [
        "def get_ror_of_asset(stock):\n",
        "    #eps = stock_info['netIncomeToCommon'] / stock_info['sharesOutstanding']]\n",
        "    eps = stock['forwardEps']\n",
        "    ask = stock['ask']\n",
        "    ror = (eps / ask) * 100\n",
        "    print('Annual Rate of Return for ' + stock['shortName'] + ' is: %.2f' % ror + '%')\n",
        "    return ror"
      ],
      "execution_count": 19,
      "outputs": []
    },
    {
      "cell_type": "markdown",
      "metadata": {
        "id": "cbB1PQtjl4DI"
      },
      "source": [
        "My Portfolio"
      ]
    },
    {
      "cell_type": "code",
      "metadata": {
        "id": "WtNhlSO5luRG"
      },
      "source": [
        "us_stock_symbols = ['NOK', 'MSFT', 'AMZN', 'AAPL', 'GOOGL', 'FB', 'NVDA', 'MCD', 'NFLX', 'PYPL', 'SQ', \n",
        "                    'TSLA', 'AU', 'GOLD', 'PAAS', 'AUY', 'SNE', 'EA', 'TTWO', 'ATVI', 'SPOT', 'BA', 'MA', 'V', 'CME',]\n",
        "uk_stock_symbols = ['BARC.L', 'EZJ.L', 'AZN.L']\n",
        "etf_symbols = ['SGLN.L', 'VWRL.L', 'VFEM.L', 'VUSA.L', 'PHSP.L']\n",
        "all_symbols = us_stock_symbols + uk_stock_symbols + etf_symbols\n",
        "tickers = yf.Tickers(us_stock_symbols)"
      ],
      "execution_count": 20,
      "outputs": []
    },
    {
      "cell_type": "markdown",
      "metadata": {
        "id": "-ncX6KVf1E33"
      },
      "source": [
        "For syntax reasons the UK and US stocks need to be iterated through separately."
      ]
    },
    {
      "cell_type": "code",
      "metadata": {
        "id": "5hMxF5R0l7W_",
        "colab": {
          "base_uri": "https://localhost:8080/"
        },
        "outputId": "1180cb84-a142-416d-d4f8-35ab207c1f22"
      },
      "source": [
        "# To store stock data in lists\n",
        "us_assets = []\n",
        "uk_assets = []\n",
        "all_rors_of_assets = []\n",
        "\n",
        "# For the US Stocks\n",
        "for asset in us_stock_symbols:\n",
        "    stock_info = getattr(tickers.tickers, asset).info\n",
        "    us_assets += [stock_info]\n",
        "    new_ror = get_ror_of_asset(stock_info)\n",
        "    all_rors_of_assets += [new_ror]\n",
        "\n",
        "# For the UK Stocks\n",
        "for asset in uk_stock_symbols:\n",
        "    stock_info = yf.Ticker(asset).info\n",
        "    uk_assets += [stock_info]\n",
        "    new_ror = get_ror_of_asset(stock_info)\n",
        "    all_rors_of_assets += [new_ror]\n"
      ],
      "execution_count": 21,
      "outputs": [
        {
          "output_type": "stream",
          "text": [
            "Annual Rate of Return for Nokia Corporation Sponsored is: 6.38%\n",
            "Annual Rate of Return for Microsoft Corporation is: 3.42%\n",
            "Annual Rate of Return for Amazon.com, Inc. is: 1.42%\n",
            "Annual Rate of Return for Apple Inc. is: 3.34%\n",
            "Annual Rate of Return for Alphabet Inc. is: 3.54%\n",
            "Annual Rate of Return for Facebook, Inc. is: 3.90%\n",
            "Annual Rate of Return for NVIDIA Corporation is: 2.18%\n",
            "Annual Rate of Return for McDonald's Corporation is: 3.98%\n",
            "Annual Rate of Return for Netflix, Inc. is: 1.73%\n",
            "Annual Rate of Return for PayPal Holdings, Inc. is: 1.94%\n",
            "Annual Rate of Return for Square, Inc. is: 0.51%\n",
            "Annual Rate of Return for Tesla, Inc. is: 0.53%\n",
            "Annual Rate of Return for AngloGold Ashanti Limited is: 12.84%\n",
            "Annual Rate of Return for Barrick Gold Corporation is: 5.88%\n",
            "Annual Rate of Return for Pan American Silver Corp. is: 6.91%\n",
            "Annual Rate of Return for Yamana Gold Inc. is: 3.15%\n",
            "Annual Rate of Return for Sony Corporation is: 4.46%\n",
            "Annual Rate of Return for Electronic Arts Inc. is: 4.27%\n",
            "Annual Rate of Return for Take-Two Interactive Software,  is: 2.79%\n",
            "Annual Rate of Return for Activision Blizzard, Inc is: 3.92%\n",
            "Annual Rate of Return for Spotify Technology S.A. is: -0.47%\n",
            "Annual Rate of Return for Boeing Company (The) is: 0.66%\n",
            "Annual Rate of Return for Mastercard Incorporated is: 2.36%\n",
            "Annual Rate of Return for Visa Inc. is: 3.16%\n",
            "Annual Rate of Return for CME Group Inc. is: 3.74%\n",
            "Annual Rate of Return for BARCLAYS PLC ORD 25P is: 16.21%\n",
            "Annual Rate of Return for EASYJET PLC ORD 27 2/7P is: 16.46%\n",
            "Annual Rate of Return for ASTRAZENECA PLC ORD SHS $0.25 is: 0.05%\n"
          ],
          "name": "stdout"
        }
      ]
    },
    {
      "cell_type": "markdown",
      "metadata": {
        "id": "EhWnL0tW2lMo"
      },
      "source": [
        "I work in dark mode so I set the graph font to white:"
      ]
    },
    {
      "cell_type": "code",
      "metadata": {
        "id": "GDcUamNq151Y"
      },
      "source": [
        "COLOR = 'white'\n",
        "plt.rcParams['axes.labelcolor'] = COLOR\n",
        "plt.rcParams['xtick.color'] = COLOR\n",
        "plt.rcParams['ytick.color'] = COLOR"
      ],
      "execution_count": 22,
      "outputs": []
    },
    {
      "cell_type": "code",
      "metadata": {
        "id": "TddyFDPN1YvT",
        "colab": {
          "base_uri": "https://localhost:8080/",
          "height": 660
        },
        "outputId": "58e752ce-21a9-4cae-df12-b2bef818bd71"
      },
      "source": [
        "plt.figure(figsize=(15,10))\n",
        "plt.bar(us_stock_symbols + uk_stock_symbols, all_rors_of_assets)\n",
        "ax = plt.subplot()\n",
        "ax.set_xlabel('Stock')\n",
        "ax.set_ylabel('Annual Rate of Return');"
      ],
      "execution_count": 23,
      "outputs": [
        {
          "output_type": "stream",
          "text": [
            "/usr/local/lib/python3.6/dist-packages/ipykernel_launcher.py:3: MatplotlibDeprecationWarning: Adding an axes using the same arguments as a previous axes currently reuses the earlier instance.  In a future version, a new instance will always be created and returned.  Meanwhile, this warning can be suppressed, and the future behavior ensured, by passing a unique label to each axes instance.\n",
            "  This is separate from the ipykernel package so we can avoid doing imports until\n"
          ],
          "name": "stderr"
        },
        {
          "output_type": "display_data",
          "data": {
            "image/png": "[encoded data removed]",
            "text/plain": [
              "<Figure size 1080x720 with 1 Axes>"
            ]
          },
          "metadata": {
            "tags": [],
            "needs_background": "dark"
          }
        }
      ]
    },
    {
      "cell_type": "markdown",
      "metadata": {
        "id": "yXMQrjecnHH7"
      },
      "source": [
        "**Percentage 52-Week Change - Volitility**"
      ]
    },
    {
      "cell_type": "code",
      "metadata": {
        "id": "EuDRdlIup2ZR"
      },
      "source": [
        "annual_change = []\n",
        "annual_change_sp500 = us_assets[0]['SandP52WeekChange']\n",
        "annual_change_sp500_points = [ annual_change_sp500 for p in us_assets + uk_assets ]\n",
        "us_annual_change = []\n",
        "uk_annual_change = []\n",
        "us_annual_change_sp500 = []\n",
        "uk_annual_change_sp500 = []\n",
        "\n",
        "for asset in us_assets:\n",
        "    year_change = asset['52WeekChange']\n",
        "    us_annual_change += [year_change]\n",
        "\n",
        "us_stock_count = len(us_assets)\n",
        "annual_change += us_annual_change[:us_stock_count]\n",
        "\n",
        "for asset in uk_assets:\n",
        "    year_change = asset['52WeekChange']\n",
        "    uk_annual_change += [year_change]\n",
        "\n",
        "uk_stock_count = len(uk_assets)\n",
        "annual_change += uk_annual_change[:uk_stock_count]"
      ],
      "execution_count": 29,
      "outputs": []
    },
    {
      "cell_type": "code",
      "metadata": {
        "id": "3VDTvssUrIrD",
        "colab": {
          "base_uri": "https://localhost:8080/",
          "height": 675
        },
        "outputId": "6b554730-a948-47c2-da39-99d8aae26bfe"
      },
      "source": [
        "plt.figure(figsize=(20,10))\n",
        "plt.title('52-Week Change vs S&P 500 52-Week Change', fontdict={'color':'white'})\n",
        "ax = plt.subplot()\n",
        "w = 0.3\n",
        "ax.bar(us_stock_symbols + uk_stock_symbols, annual_change, width=w, align='center')\n",
        "ax.plot(annual_change_sp500_points, linestyle='dashed', color='red')\n",
        "ax.set_xlabel('Stock')\n",
        "ax.set_ylabel('52-week Change')\n",
        "plt.legend(['S&P 500 52-Week Change', '52-Week Change']);"
      ],
      "execution_count": 30,
      "outputs": [
        {
          "output_type": "stream",
          "text": [
            "/usr/local/lib/python3.6/dist-packages/ipykernel_launcher.py:3: MatplotlibDeprecationWarning: Adding an axes using the same arguments as a previous axes currently reuses the earlier instance.  In a future version, a new instance will always be created and returned.  Meanwhile, this warning can be suppressed, and the future behavior ensured, by passing a unique label to each axes instance.\n",
            "  This is separate from the ipykernel package so we can avoid doing imports until\n"
          ],
          "name": "stderr"
        },
        {
          "output_type": "display_data",
          "data": {
            "image/png": "[encoded data removed]",
            "text/plain": [
              "<Figure size 1440x720 with 1 Axes>"
            ]
          },
          "metadata": {
            "tags": [],
            "needs_background": "dark"
          }
        }
      ]
    },
    {
      "cell_type": "markdown",
      "metadata": {
        "id": "4YfGlmUXE97m"
      },
      "source": [
        "# Return vs 52-Week Change"
      ]
    },
    {
      "cell_type": "code",
      "metadata": {
        "id": "Q_Vv0XdWFIot",
        "colab": {
          "base_uri": "https://localhost:8080/",
          "height": 675
        },
        "outputId": "90353663-9b6b-48dc-e02c-203cb1361278"
      },
      "source": [
        "X = np.arange(len(us_stock_symbols + uk_stock_symbols))\n",
        "\n",
        "plt.figure(figsize=(20,10))\n",
        "plt.title('52-Week Change vs Return', fontdict={'color':'white'})\n",
        "plt.xticks(X, us_stock_symbols + uk_stock_symbols)\n",
        "\n",
        "ax = plt.subplot()\n",
        "w = 0.4\n",
        "ax.bar(X - w/2, all_rors_of_assets, width=w, align='center')\n",
        "ax.bar(X + w/2, annual_change, width=w, align='center', color='r')\n",
        "ax.set_xlabel('Stock')\n",
        "ax.set_ylabel('52-week Change')\n",
        "\n",
        "plt.legend(['Return', '52-Week Change']);"
      ],
      "execution_count": 31,
      "outputs": [
        {
          "output_type": "stream",
          "text": [
            "/usr/local/lib/python3.6/dist-packages/ipykernel_launcher.py:7: MatplotlibDeprecationWarning: Adding an axes using the same arguments as a previous axes currently reuses the earlier instance.  In a future version, a new instance will always be created and returned.  Meanwhile, this warning can be suppressed, and the future behavior ensured, by passing a unique label to each axes instance.\n",
            "  import sys\n"
          ],
          "name": "stderr"
        },
        {
          "output_type": "display_data",
          "data": {
            "image/png": "[encoded data removed]",
            "text/plain": [
              "<Figure size 1440x720 with 1 Axes>"
            ]
          },
          "metadata": {
            "tags": [],
            "needs_background": "dark"
          }
        }
      ]
    }
  ]
}