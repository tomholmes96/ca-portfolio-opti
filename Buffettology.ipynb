{
  "nbformat": 4,
  "nbformat_minor": 0,
  "metadata": {
    "colab": {
      "name": "Buffettology.ipynb",
      "provenance": [],
      "collapsed_sections": [],
      "authorship_tag": "ABX9TyNSp97pU32dkw9uHAUmRlxf",
      "include_colab_link": true
    },
    "kernelspec": {
      "name": "python3",
      "display_name": "Python 3"
    }
  },
  "cells": [
    {
      "cell_type": "markdown",
      "metadata": {
        "id": "view-in-github",
        "colab_type": "text"
      },
      "source": [
        "<a href=\"https://colab.research.google.com/github/tomholmes96/ca-portfolio-opti/blob/main/Buffettology.ipynb\" target=\"_parent\"><img src=\"https://colab.research.google.com/assets/colab-badge.svg\" alt=\"Open In Colab\"/></a>"
      ]
    },
    {
      "cell_type": "markdown",
      "metadata": {
        "id": "2fW8B2O3ddsv"
      },
      "source": [
        "# Introduction\n",
        "\n",
        "In this notebook I want to implement some of Warren Buffett's strategies for choosing stocks as detailed in the book \"Buffettology\". "
      ]
    },
    {
      "cell_type": "markdown",
      "metadata": {
        "id": "KN7U2jWRb-VH"
      },
      "source": [
        "**Need to install Yahoo Finance as it isn't already on Colab**"
      ]
    },
    {
      "cell_type": "code",
      "metadata": {
        "id": "aE2w_C9-Vu5Z",
        "colab": {
          "base_uri": "https://localhost:8080/"
        },
        "outputId": "f51648d3-5383-4c53-b52e-d16e11d52a27"
      },
      "source": [
        "!pip install yfinance"
      ],
      "execution_count": null,
      "outputs": [
        {
          "output_type": "stream",
          "text": [
            "Collecting yfinance\n",
            "  Downloading https://files.pythonhosted.org/packages/7a/e8/b9d7104d3a4bf39924799067592d9e59119fcfc900a425a12e80a3123ec8/yfinance-0.1.55.tar.gz\n",
            "Requirement already satisfied: pandas>=0.24 in /usr/local/lib/python3.6/dist-packages (from yfinance) (1.1.4)\n",
            "Requirement already satisfied: numpy>=1.15 in /usr/local/lib/python3.6/dist-packages (from yfinance) (1.18.5)\n",
            "Requirement already satisfied: requests>=2.20 in /usr/local/lib/python3.6/dist-packages (from yfinance) (2.23.0)\n",
            "Requirement already satisfied: multitasking>=0.0.7 in /usr/local/lib/python3.6/dist-packages (from yfinance) (0.0.9)\n",
            "Collecting lxml>=4.5.1\n",
            "\u001b[?25l  Downloading https://files.pythonhosted.org/packages/bd/78/56a7c88a57d0d14945472535d0df9fb4bbad7d34ede658ec7961635c790e/lxml-4.6.2-cp36-cp36m-manylinux1_x86_64.whl (5.5MB)\n",
            "\u001b[K     |████████████████████████████████| 5.5MB 10.5MB/s \n",
            "\u001b[?25hRequirement already satisfied: python-dateutil>=2.7.3 in /usr/local/lib/python3.6/dist-packages (from pandas>=0.24->yfinance) (2.8.1)\n",
            "Requirement already satisfied: pytz>=2017.2 in /usr/local/lib/python3.6/dist-packages (from pandas>=0.24->yfinance) (2018.9)\n",
            "Requirement already satisfied: urllib3!=1.25.0,!=1.25.1,<1.26,>=1.21.1 in /usr/local/lib/python3.6/dist-packages (from requests>=2.20->yfinance) (1.24.3)\n",
            "Requirement already satisfied: idna<3,>=2.5 in /usr/local/lib/python3.6/dist-packages (from requests>=2.20->yfinance) (2.10)\n",
            "Requirement already satisfied: chardet<4,>=3.0.2 in /usr/local/lib/python3.6/dist-packages (from requests>=2.20->yfinance) (3.0.4)\n",
            "Requirement already satisfied: certifi>=2017.4.17 in /usr/local/lib/python3.6/dist-packages (from requests>=2.20->yfinance) (2020.11.8)\n",
            "Requirement already satisfied: six>=1.5 in /usr/local/lib/python3.6/dist-packages (from python-dateutil>=2.7.3->pandas>=0.24->yfinance) (1.15.0)\n",
            "Building wheels for collected packages: yfinance\n",
            "  Building wheel for yfinance (setup.py) ... \u001b[?25l\u001b[?25hdone\n",
            "  Created wheel for yfinance: filename=yfinance-0.1.55-py2.py3-none-any.whl size=22618 sha256=9bad0f87dca7ca703d249c90053d5d6b33cdddb68ed3886d499f875f5af73c4f\n",
            "  Stored in directory: /root/.cache/pip/wheels/04/98/cc/2702a4242d60bdc14f48b4557c427ded1fe92aedf257d4565c\n",
            "Successfully built yfinance\n",
            "Installing collected packages: lxml, yfinance\n",
            "  Found existing installation: lxml 4.2.6\n",
            "    Uninstalling lxml-4.2.6:\n",
            "      Successfully uninstalled lxml-4.2.6\n",
            "Successfully installed lxml-4.6.2 yfinance-0.1.55\n"
          ],
          "name": "stdout"
        }
      ]
    },
    {
      "cell_type": "code",
      "metadata": {
        "id": "3HfuinQ2TV2n"
      },
      "source": [
        "import yfinance as yf\n",
        "import matplotlib.pyplot as plt"
      ],
      "execution_count": null,
      "outputs": []
    },
    {
      "cell_type": "markdown",
      "metadata": {
        "id": "mEyWPkHcce69"
      },
      "source": [
        "# Basic Financials"
      ]
    },
    {
      "cell_type": "markdown",
      "metadata": {
        "id": "nQPCPyXFcp_T"
      },
      "source": [
        "A preview of the info provided for a stock from the yfinance API"
      ]
    },
    {
      "cell_type": "code",
      "metadata": {
        "id": "885rQYuEVybK",
        "colab": {
          "base_uri": "https://localhost:8080/"
        },
        "outputId": "a343acc5-4375-49de-af60-17c8794b0b68"
      },
      "source": [
        "aapl = yf.Ticker('SNE')\n",
        "aapl.info"
      ],
      "execution_count": null,
      "outputs": [
        {
          "output_type": "execute_result",
          "data": {
            "text/plain": [
              "{'52WeekChange': 0.40793252,\n",
              " 'SandP52WeekChange': 0.17859101,\n",
              " 'address1': '1-7-1 Konan',\n",
              " 'address2': 'Minato-ku',\n",
              " 'algorithm': None,\n",
              " 'annualHoldingsTurnover': None,\n",
              " 'annualReportExpenseRatio': None,\n",
              " 'ask': 93.4,\n",
              " 'askSize': 800,\n",
              " 'averageDailyVolume10Day': 937500,\n",
              " 'averageVolume': 1087284,\n",
              " 'averageVolume10days': 937500,\n",
              " 'beta': 0.895607,\n",
              " 'beta3Year': None,\n",
              " 'bid': 93.38,\n",
              " 'bidSize': 800,\n",
              " 'bookValue': 24.082,\n",
              " 'category': None,\n",
              " 'circulatingSupply': None,\n",
              " 'city': 'Tokyo',\n",
              " 'companyOfficers': [],\n",
              " 'country': 'Japan',\n",
              " 'currency': 'USD',\n",
              " 'dateShortInterest': 1605225600,\n",
              " 'dayHigh': 93.8,\n",
              " 'dayLow': 93.11,\n",
              " 'dividendRate': 0.47,\n",
              " 'dividendYield': 0.005,\n",
              " 'earningsQuarterlyGrowth': 1.446,\n",
              " 'enterpriseToEbitda': None,\n",
              " 'enterpriseToRevenue': None,\n",
              " 'enterpriseValue': 115164889088,\n",
              " 'exDividendDate': 1585267200,\n",
              " 'exchange': 'NYQ',\n",
              " 'exchangeTimezoneName': 'America/New_York',\n",
              " 'exchangeTimezoneShortName': 'EST',\n",
              " 'expireDate': None,\n",
              " 'fiftyDayAverage': 86.52515,\n",
              " 'fiftyTwoWeekHigh': 94.82,\n",
              " 'fiftyTwoWeekLow': 50.94,\n",
              " 'fiveYearAverageReturn': None,\n",
              " 'fiveYearAvgDividendYield': 0.54,\n",
              " 'floatShares': 1217446807,\n",
              " 'forwardEps': 4.5,\n",
              " 'forwardPE': 20.737778,\n",
              " 'fromCurrency': None,\n",
              " 'fullTimeEmployees': 111700,\n",
              " 'fundFamily': None,\n",
              " 'fundInceptionDate': None,\n",
              " 'gmtOffSetMilliseconds': '-18000000',\n",
              " 'heldPercentInsiders': 0.00027000002,\n",
              " 'heldPercentInstitutions': 0.079229996,\n",
              " 'impliedSharesOutstanding': None,\n",
              " 'industry': 'Consumer Electronics',\n",
              " 'isEsgPopulated': False,\n",
              " 'lastCapGain': None,\n",
              " 'lastDividendDate': 1585267200,\n",
              " 'lastDividendValue': 0.227603,\n",
              " 'lastFiscalYearEnd': 1585612800,\n",
              " 'lastMarket': None,\n",
              " 'lastSplitDate': 959212800,\n",
              " 'lastSplitFactor': '2:1',\n",
              " 'legalType': None,\n",
              " 'logo_url': 'https://logo.clearbit.com/sony.net',\n",
              " 'longBusinessSummary': 'Sony Corporation designs, develops, produces, and sells electronic equipment, instruments, and devices for the consumer, professional, and industrial markets worldwide. The company distributes software titles and add-on content through digital networks by Sony Interactive Entertainment; network services related to game, video, and music content; and home and portable game consoles, packaged software, and peripheral devices. It also develops, produces, markets, and distributes recorded music; publishes music; and produces and distributes animation titles, game applications based on animation titles, and various services for music and visual products. In addition, the company offers live-action and animated motion pictures, as well as scripted and unscripted series, daytime serials, game shows, animated series, television movies, and miniseries and other television programs; operates a visual effects and animation unit; manages a studio facility; and operates television and digital networks. Further, it researches, develops, designs, produces, markets, distributes, sells, and services video and sound products; interchangeable lens, compact digital, and consumer and professional video cameras; display products, such as projectors and medical equipment; mobile phones, tablets, accessories, and applications; and metal oxide semiconductor image sensors, charge-coupled devices, large-scale integration systems, and other semiconductors. Additionally, it offers Internet broadband network services; creates and distributes content for various electronics product platforms, such as PCs and mobile phones; and provides life and non-life insurance, banking, and other services, as well as batteries, recording media, and storage media products. It has collaboration with The UNOPS. The company was formerly known as Tokyo Tsushin Kogyo Kabushiki Kaisha and changed its name to Sony Corporation in January 1958. The company was founded in 1946 and is headquartered in Tokyo, Japan.',\n",
              " 'longName': 'Sony Corporation',\n",
              " 'market': 'us_market',\n",
              " 'marketCap': 114472837120,\n",
              " 'maxAge': 1,\n",
              " 'maxSupply': None,\n",
              " 'messageBoardId': 'finmb_23021',\n",
              " 'morningStarOverallRating': None,\n",
              " 'morningStarRiskRating': None,\n",
              " 'mostRecentQuarter': 1601424000,\n",
              " 'navPrice': None,\n",
              " 'netIncomeToCommon': None,\n",
              " 'nextFiscalYearEnd': 1648684800,\n",
              " 'open': 93.4,\n",
              " 'openInterest': None,\n",
              " 'payoutRatio': 0.032899998,\n",
              " 'pegRatio': 3.54,\n",
              " 'phone': '81 3 6748 2111',\n",
              " 'previousClose': 93.36,\n",
              " 'priceHint': 2,\n",
              " 'priceToBook': 3.8750932,\n",
              " 'priceToSalesTrailing12Months': None,\n",
              " 'profitMargins': 0.11274,\n",
              " 'quoteType': 'EQUITY',\n",
              " 'regularMarketDayHigh': 93.8,\n",
              " 'regularMarketDayLow': 93.11,\n",
              " 'regularMarketOpen': 93.4,\n",
              " 'regularMarketPreviousClose': 93.36,\n",
              " 'regularMarketPrice': 93.4,\n",
              " 'regularMarketVolume': 412197,\n",
              " 'revenueQuarterlyGrowth': None,\n",
              " 'sector': 'Technology',\n",
              " 'sharesOutstanding': 1233600000,\n",
              " 'sharesPercentSharesOut': 0.0026,\n",
              " 'sharesShort': 3249662,\n",
              " 'sharesShortPreviousMonthDate': 1602720000,\n",
              " 'sharesShortPriorMonth': 3072336,\n",
              " 'shortName': 'Sony Corporation',\n",
              " 'shortPercentOfFloat': None,\n",
              " 'shortRatio': 2.52,\n",
              " 'startDate': None,\n",
              " 'strikePrice': None,\n",
              " 'symbol': 'SNE',\n",
              " 'threeYearAverageReturn': None,\n",
              " 'toCurrency': None,\n",
              " 'totalAssets': None,\n",
              " 'tradeable': False,\n",
              " 'trailingAnnualDividendRate': 0.272,\n",
              " 'trailingAnnualDividendYield': 0.0029134534,\n",
              " 'trailingEps': 4.757,\n",
              " 'trailingPE': 19.617407,\n",
              " 'twoHundredDayAverage': 77.79181,\n",
              " 'volume': 412197,\n",
              " 'volume24Hr': None,\n",
              " 'volumeAllCurrencies': None,\n",
              " 'website': 'http://www.sony.net',\n",
              " 'yield': None,\n",
              " 'ytdReturn': None,\n",
              " 'zip': '108-0075'}"
            ]
          },
          "metadata": {
            "tags": []
          },
          "execution_count": 3
        }
      ]
    },
    {
      "cell_type": "markdown",
      "metadata": {
        "id": "Za9God2lgKfA"
      },
      "source": [
        "Function for returning the rate of return for a stock factoring in how much I would pay for it:\n",
        "\n",
        "$$ RoR = \\frac{Foward EPS}{Ask Price} $$\n",
        "\n"
      ]
    },
    {
      "cell_type": "code",
      "metadata": {
        "id": "k4mYmh-xaC0i"
      },
      "source": [
        "def get_ror_of_us_asset(symbol):\n",
        "    stock_info = getattr(tickers.tickers, symbol).info\n",
        "    #eps = stock_info['netIncomeToCommon'] / stock_info['sharesOutstanding']]\n",
        "    eps = stock_info['forwardEps']\n",
        "    ror = (eps / stock_info['ask']) * 100\n",
        "    print('Annual Rate of Return for ' + stock_info['shortName'] + ' is: %.2f' % ror + '%')\n",
        "    return ror\n",
        "\n",
        "def get_ror_of_uk_asset(symbol):\n",
        "    stock_info = yf.Ticker(symbol).info\n",
        "    #eps = stock_info['netIncomeToCommon'] / stock_info['sharesOutstanding']\n",
        "    eps = stock_info['forwardEps']\n",
        "    ror = (eps / stock_info['ask']) * 100\n",
        "    print('Annual Rate of Return for ' + stock_info['shortName'] + ' is: %.2f' % ror + '%')\n",
        "    return ror"
      ],
      "execution_count": null,
      "outputs": []
    },
    {
      "cell_type": "markdown",
      "metadata": {
        "id": "cbB1PQtjl4DI"
      },
      "source": [
        "My Portfolio"
      ]
    },
    {
      "cell_type": "code",
      "metadata": {
        "id": "WtNhlSO5luRG"
      },
      "source": [
        "us_stock_symbols = ['MSFT', 'AMZN', 'AAPL', 'GOOGL', 'FB', 'NVDA', 'MCD', 'NFLX', 'PYPL', 'SQ', \n",
        "                    'TSLA', 'AU', 'GOLD', 'PAAS', 'AUY', 'SNE', 'EA', 'TTWO', 'ATVI', 'UBER', 'SPOT', 'BA', 'MA', 'V', ]\n",
        "uk_stock_symbols = ['BARC.L', 'EZJ.L', 'AZN.L']\n",
        "etf_symbols = ['SGLN.L', 'VWRL.L', 'VFEM.L', 'VUSA.L', 'PHSP.L']\n",
        "all_symbols = us_stock_symbols + uk_stock_symbols + etf_symbols\n",
        "tickers = yf.Tickers(us_stock_symbols)"
      ],
      "execution_count": null,
      "outputs": []
    },
    {
      "cell_type": "markdown",
      "metadata": {
        "id": "-ncX6KVf1E33"
      },
      "source": [
        "For syntax reasons the UK and US stocks need to be iterated through separately."
      ]
    },
    {
      "cell_type": "code",
      "metadata": {
        "id": "5hMxF5R0l7W_",
        "colab": {
          "base_uri": "https://localhost:8080/"
        },
        "outputId": "0eb43315-90c2-4feb-8913-3dcd4df93c30"
      },
      "source": [
        "all_rors_of_assets = []\n",
        "# For the US Stocks\n",
        "for asset in us_stock_symbols:\n",
        "    new_ror = get_ror_of_us_asset(asset)\n",
        "    all_rors_of_assets += [new_ror]\n",
        "\n",
        "# For the UK Stocks\n",
        "for asset in uk_stock_symbols:\n",
        "    new_ror = get_ror_of_uk_asset(asset)\n",
        "    all_rors_of_assets += [new_ror]\n"
      ],
      "execution_count": null,
      "outputs": [
        {
          "output_type": "stream",
          "text": [
            "Annual Rate of Return for Microsoft Corporation is: 3.45%\n",
            "Annual Rate of Return for Amazon.com, Inc. is: 1.44%\n",
            "Annual Rate of Return for Apple Inc. is: 3.47%\n",
            "Annual Rate of Return for Alphabet Inc. is: 3.39%\n",
            "Annual Rate of Return for Facebook, Inc. is: 3.69%\n",
            "Annual Rate of Return for NVIDIA Corporation is: 2.17%\n",
            "Annual Rate of Return for McDonald's Corporation is: 3.99%\n",
            "Annual Rate of Return for Netflix, Inc. is: 1.77%\n",
            "Annual Rate of Return for PayPal Holdings, Inc. is: 2.07%\n",
            "Annual Rate of Return for Square, Inc. is: 0.53%\n",
            "Annual Rate of Return for Tesla, Inc. is: 0.60%\n",
            "Annual Rate of Return for AngloGold Ashanti Limited is: 14.43%\n",
            "Annual Rate of Return for Barrick Gold Corporation is: 6.18%\n",
            "Annual Rate of Return for Pan American Silver Corp. is: 8.06%\n",
            "Annual Rate of Return for Yamana Gold Inc. is: 3.35%\n",
            "Annual Rate of Return for Sony Corporation is: 4.82%\n",
            "Annual Rate of Return for Electronic Arts Inc. is: 4.52%\n",
            "Annual Rate of Return for Take-Two Interactive Software,  is: 3.09%\n",
            "Annual Rate of Return for Activision Blizzard, Inc is: 4.27%\n",
            "Annual Rate of Return for Uber Technologies, Inc. is: -2.93%\n",
            "Annual Rate of Return for Spotify Technology S.A. is: -0.44%\n",
            "Annual Rate of Return for Boeing Company (The) is: 0.58%\n",
            "Annual Rate of Return for Mastercard Incorporated is: 2.42%\n",
            "Annual Rate of Return for Visa Inc. is: 3.20%\n",
            "Annual Rate of Return for BARCLAYS PLC ORD 25P is: 15.87%\n",
            "Annual Rate of Return for EASYJET PLC ORD 27 2/7P is: 14.81%\n",
            "Annual Rate of Return for ASTRAZENECA PLC ORD SHS $0.25 is: 0.05%\n"
          ],
          "name": "stdout"
        }
      ]
    },
    {
      "cell_type": "markdown",
      "metadata": {
        "id": "EhWnL0tW2lMo"
      },
      "source": [
        "I work in dark mode so I set the graph font to white:"
      ]
    },
    {
      "cell_type": "code",
      "metadata": {
        "id": "GDcUamNq151Y"
      },
      "source": [
        "COLOR = 'white'\n",
        "plt.rcParams['axes.labelcolor'] = COLOR\n",
        "plt.rcParams['xtick.color'] = COLOR\n",
        "plt.rcParams['ytick.color'] = COLOR"
      ],
      "execution_count": null,
      "outputs": []
    },
    {
      "cell_type": "code",
      "metadata": {
        "id": "TddyFDPN1YvT",
        "colab": {
          "base_uri": "https://localhost:8080/",
          "height": 660
        },
        "outputId": "9723ea01-9c36-46df-9721-63e6e2516ccd"
      },
      "source": [
        "plt.figure(figsize=(15,10))\n",
        "plt.bar(us_stock_symbols + uk_stock_symbols, all_rors_of_assets)\n",
        "ax = plt.subplot()\n",
        "ax.set_xlabel('Stock')\n",
        "ax.set_ylabel('Annual Rate of Return');"
      ],
      "execution_count": null,
      "outputs": [
        {
          "output_type": "stream",
          "text": [
            "/usr/local/lib/python3.6/dist-packages/ipykernel_launcher.py:3: MatplotlibDeprecationWarning: Adding an axes using the same arguments as a previous axes currently reuses the earlier instance.  In a future version, a new instance will always be created and returned.  Meanwhile, this warning can be suppressed, and the future behavior ensured, by passing a unique label to each axes instance.\n",
            "  This is separate from the ipykernel package so we can avoid doing imports until\n"
          ],
          "name": "stderr"
        },
        {
          "output_type": "display_data",
          "data": {
            "image/png": "[encoded data removed]",
            "text/plain": [
              "<Figure size 1080x720 with 1 Axes>"
            ]
          },
          "metadata": {
            "tags": [],
            "needs_background": "dark"
          }
        }
      ]
    }
  ]
}